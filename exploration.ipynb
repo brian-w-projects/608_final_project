{
 "cells": [
  {
   "cell_type": "code",
   "execution_count": 12,
   "metadata": {
    "collapsed": true
   },
   "outputs": [],
   "source": [
    "import PyPDF2\n",
    "import pandas as pd\n",
    "import numpy as np\n",
    "from pandas import DataFrame, Series\n",
    "import re"
   ]
  },
  {
   "cell_type": "code",
   "execution_count": 108,
   "metadata": {},
   "outputs": [],
   "source": [
    "import requests\n",
    "from bs4 import BeautifulSoup\n",
    "\n",
    "r = requests.get('http://abbreviations.yourdictionary.com/articles/state-abbrev.html')\n",
    "soup = BeautifulSoup(r.content, 'html.parser')\n",
    "states = DataFrame((ele.text.split(' - ')[0], ele.text.split(' - ')[1]) for ele in soup.select('#article_main_content > ul > li')) \\\n",
    "    .reset_index() \\\n",
    "    .rename(columns={'index': 'id', 0: 'state', 1: 'abbreviation'}) \\\n",
    "    .assign(id=lambda x: x['id'] + 1)\n",
    "states\n",
    "states.to_csv('states.csv', index=False)"
   ]
  },
  {
   "cell_type": "code",
   "execution_count": 134,
   "metadata": {},
   "outputs": [],
   "source": [
    "counties_raw = pd.read_csv('populations.csv')['Geography'] \n",
    "counties = DataFrame(counties_raw.str.split(', ').tolist(), columns=['county', 'state'])\n",
    "\n",
    "counties = pd.merge(counties, states, left_on='state', right_on='state') \\\n",
    "    .drop(columns=['state', 'abbreviation']) \\\n",
    "    .reset_index() \\\n",
    "    .rename(columns={'id': 'state_id', 'index': 'id', 'county': 'county'}) \\\n",
    "    .assign(id=lambda x: x['id'] + 1)\n",
    "    \n",
    "counties.to_csv('counties.csv', index=False)"
   ]
  },
  {
   "cell_type": "code",
   "execution_count": 171,
   "metadata": {},
   "outputs": [],
   "source": [
    "metro_raw = pd.read_csv('metro_counties.csv', encoding='ISO-8859-1', header=2)\n",
    "\n",
    "metro_raw = metro_raw[['CBSA Title', 'Metropolitan/Micropolitan Statistical Area', 'County/County Equivalent', 'State Name']] \\\n",
    "    [(metro_raw['Metropolitan/Micropolitan Statistical Area'] == 'Metropolitan Statistical Area') & (metro_raw['State Name'] != 'Puerto Rico')] \\\n",
    "    .drop(columns=['Metropolitan/Micropolitan Statistical Area'])\n",
    "metros = DataFrame(metro_raw['CBSA Title'].unique()) \\\n",
    "    .reset_index() \\\n",
    "    .rename(columns={'index': 'id', 0: 'metro'}) \\\n",
    "    .assign(id=lambda x: x['id'] + 1)\n",
    "metros.to_csv('metros.csv', index=False)"
   ]
  },
  {
   "cell_type": "code",
   "execution_count": 186,
   "metadata": {},
   "outputs": [],
   "source": [
    "metro_county = metro_raw \\\n",
    "    .rename(columns={'CBSA Title': 'metro', 'County/County Equivalent': 'county', 'State Name': 'state'}) \\\n",
    "    .merge(metros, left_on='metro', right_on='metro', ) \\\n",
    "    .rename(columns={'id': 'metro_id'}) \\\n",
    "    .drop(columns=['metro']) \\\n",
    "    .merge(states, left_on='state', right_on='state') \\\n",
    "    .rename(columns={'id': 'state_id'}) \\\n",
    "    .drop(columns=['state', 'abbreviation']) \\\n",
    "    .merge(counties, left_on=['county', 'state_id'], right_on=['county', 'state_id']) \\\n",
    "    .rename(columns={'id': 'county_id'}) \\\n",
    "    .drop(columns=['county', 'state_id']) \\\n",
    "    .reset_index() \\\n",
    "    .rename(columns={'index': 'id', 'metro_id': 'metro_id', 'county_id': 'county_id'}) \\\n",
    "    .assign(id=lambda x: x['id'] + 1)\n",
    "metro_county.to_csv('metros_counties.csv', index=False)"
   ]
  },
  {
   "cell_type": "code",
   "execution_count": 223,
   "metadata": {},
   "outputs": [],
   "source": [
    "populations_raw = pd.read_csv('populations.csv', encoding='ISO-8859-1', header=0) \\\n",
    "    .drop(columns=['Id', 'Id2']) \\\n",
    "\n",
    "populations_raw[['county', 'state']] = populations_raw['Geography'].str.split(', ', expand=True)\n",
    "populations = populations_raw \\\n",
    "    .drop(columns=['Geography']) \\\n",
    "    .merge(states, left_on='state', right_on='state') \\\n",
    "    .drop(columns=['state', 'abbreviation']) \\\n",
    "    .merge(counties, left_on=['county', 'id'], right_on=['county', 'state_id']) \\\n",
    "    .drop(columns=['county', 'id_x', 'state_id']) \\\n",
    "    .rename(columns={'id_y': 'county_id'})\n",
    "populations_complete = pd.melt(populations, id_vars=['county_id'], value_vars=['2010', '2011', '2012', '2013', '2014', '2015', '2016', '2017']) \\\n",
    "    .rename(columns={'variable': 'year', 'value': 'population'}) \\\n",
    "    .sort_values('county_id') \\\n",
    "    .reset_index(drop=True) \\\n",
    "    .reset_index() \\\n",
    "    .rename(columns={'index': 'id'}) \\\n",
    "    .assign(id=lambda x: x['id'] + 1)\n",
    "populations_complete.to_csv('populations_complete.csv', index=False)"
   ]
  },
  {
   "cell_type": "code",
   "execution_count": null,
   "metadata": {},
   "outputs": [],
   "source": []
  },
  {
   "cell_type": "code",
   "execution_count": null,
   "metadata": {},
   "outputs": [],
   "source": []
  }
 ],
 "metadata": {
  "kernelspec": {
   "display_name": "Python 2",
   "language": "python",
   "name": "python2"
  },
  "language_info": {
   "codemirror_mode": {
    "name": "ipython",
    "version": 2
   },
   "file_extension": ".py",
   "mimetype": "text/x-python",
   "name": "python",
   "nbconvert_exporter": "python",
   "pygments_lexer": "ipython2",
   "version": "2.7.6"
  }
 },
 "nbformat": 4,
 "nbformat_minor": 0
}
